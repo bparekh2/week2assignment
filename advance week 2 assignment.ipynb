{
 "cells": [
  {
   "cell_type": "code",
   "execution_count": 76,
   "metadata": {},
   "outputs": [
    {
     "name": "stdout",
     "output_type": "stream",
     "text": [
      "please enter a string hello world\n",
      "Alaphabetical order : {'d': 1, 'e': 1, 'h': 1, 'l': 3, 'o': 2, 'r': 1, 'w': 1}\n",
      "Reverse String [('l', 3), ('o', 2), ('d', 1), ('e', 1), ('h', 1), ('r', 1), ('w', 1)]\n"
     ]
    }
   ],
   "source": [
    "chars = \"abcdefghijklmnopqrstuvwxyz\"\n",
    "check_string = input(\"please enter a string \")\n",
    "xKey = {}\n",
    "check_string = check_string.casefold()\n",
    "for char in chars:\n",
    "  count = check_string.count(char)\n",
    "  if count >= 1:\n",
    "    ##print (char, count)\n",
    "    d = {char : count}\n",
    "    xKey.update(d)\n",
    "\n",
    "print (\"Alaphabetical order : \" + str(xKey))\n",
    "print ( \"Reverse String \" + str(sorted(xKey.items(), key = lambda x : x[1], reverse = True)))"
   ]
  },
  {
   "cell_type": "code",
   "execution_count": 79,
   "metadata": {},
   "outputs": [
    {
     "name": "stdout",
     "output_type": "stream",
     "text": [
      "Frequency of apple is : 3\n",
      "Frequency of mango is : 3\n",
      "Frequency of orange is : 2\n",
      "Frequency of guava is : 1\n"
     ]
    }
   ],
   "source": [
    "str = 'apple mango apple orange orange apple guava mango mango'\n",
    "str = str.split()          \n",
    "str2 = [] \n",
    "for i in str:\n",
    "    if i not in str2:\n",
    "        str2.append(i)\n",
    "for i in range(0,len(str2)):\n",
    "    print('Frequency of', str2[i], 'is :', str.count(str2[i]))\n",
    "    \n",
    "  "
   ]
  },
  {
   "cell_type": "code",
   "execution_count": null,
   "metadata": {},
   "outputs": [],
   "source": [
    "str1 = input(\" give a comma seprated string \")\n",
    "str1 = str1.strip()\n",
    "print(str1)\n",
    "str1 = str1.split(\",\")\n",
    "str1 = sorted(str1)\n",
    "str2 = [] \n",
    "for i in str1:\n",
    "    if i not in str2:\n",
    "        str2.append(i)\n",
    "        print (i)"
   ]
  }
 ],
 "metadata": {
  "kernelspec": {
   "display_name": "Python 3",
   "language": "python",
   "name": "python3"
  },
  "language_info": {
   "codemirror_mode": {
    "name": "ipython",
    "version": 3
   },
   "file_extension": ".py",
   "mimetype": "text/x-python",
   "name": "python",
   "nbconvert_exporter": "python",
   "pygments_lexer": "ipython3",
   "version": "3.7.3"
  }
 },
 "nbformat": 4,
 "nbformat_minor": 2
}
